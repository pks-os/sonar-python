{
 "cells": [
  {
   "cell_type": "markdown",
   "source": [
     "** Markdown **"
   ],
   "execution_count": 0,
   "metadata": {},
   "outputs": []
  },
  {
   "source": [
    "x = None"
   ],
   "cell_type": "code",
   "execution_count": 1,
   "metadata": {},
   "outputs": []
  },
  {
   "source": [
     "** Markdown **"
   ],
   "cell_type": "markdown",
   "execution_count": 0,
   "metadata": {},
   "outputs": []
  }
 ],
 "metadata": {
  "kernelspec": {
   "display_name": "jupyter-experiment_venv",
   "language": "python",
   "name": "python3"
  },
  "language_info": {
   "codemirror_mode": {
    "name": "ipython",
    "version": 3
   },
   "file_extension": ".py",
   "mimetype": "text/x-python",
   "name": "python",
   "nbconvert_exporter": "python",
   "pygments_lexer": "ipython3",
   "version": "3.12.2"
  }
 },
 "nbformat": 4,
 "nbformat_minor": 2
}
